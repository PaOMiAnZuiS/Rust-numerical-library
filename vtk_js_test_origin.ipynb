{
 "cells": [
  {
   "cell_type": "markdown",
   "metadata": {},
   "source": [
    "### VTK.JS in Jupyter Notebooks"
   ]
  },
  {
   "cell_type": "markdown",
   "metadata": {},
   "source": [
    "Start with the necessary imports"
   ]
  },
  {
   "cell_type": "code",
   "execution_count": 1,
   "metadata": {},
   "outputs": [],
   "source": [
    "from IPython.core.display import display, HTML\n",
    "from IPython.display import Javascript\n",
    "import json"
   ]
  },
  {
   "cell_type": "markdown",
   "metadata": {},
   "source": [
    "Define two trianlges and some point data."
   ]
  },
  {
   "cell_type": "code",
   "execution_count": 2,
   "metadata": {},
   "outputs": [],
   "source": [
    "vertices = [0, 0, 0,\n",
    "            1, 0, 0,\n",
    "            1, 1, 0,\n",
    "            0, 1, 0]\n",
    "elements = [3, 0, 1, 2,\n",
    "            3, 0, 2, 3]\n",
    "point_data = [0.0, 1.0, 2.3, .5]\n"
   ]
  },
  {
   "cell_type": "markdown",
   "metadata": {},
   "source": [
    "Convert the data to a Json object and write it in the Javascript namespace."
   ]
  },
  {
   "cell_type": "code",
   "execution_count": 3,
   "metadata": {},
   "outputs": [
    {
     "data": {
      "application/javascript": [
       "document.triangleData = {\"vertices\": [0, 0, 0, 1, 0, 0, 1, 1, 0, 0, 1, 0], \"elements\": [3, 0, 1, 2, 3, 0, 2, 3], \"pointdata\": [0.0, 1.0, 2.3, 0.5]}"
      ],
      "text/plain": [
       "<IPython.core.display.Javascript object>"
      ]
     },
     "execution_count": 3,
     "metadata": {},
     "output_type": "execute_result"
    }
   ],
   "source": [
    "json_data = json.dumps({'vertices': vertices, 'elements': elements, 'pointdata': point_data})\n",
    "Javascript(f\"document.triangleData = {json_data}\")"
   ]
  },
  {
   "cell_type": "markdown",
   "metadata": {},
   "source": [
    "Generate a Render window and let Vtk.js do its magic."
   ]
  },
  {
   "cell_type": "code",
   "execution_count": 4,
   "metadata": {},
   "outputs": [
    {
     "data": {
      "text/html": [
       "\n",
       "<script type=\"text/javascript\" src=\"https://unpkg.com/@babel/polyfill@7.0.0/dist/polyfill.js\"></script>\n",
       "<script type=\"text/javascript\" src=\"https://unpkg.com/vtk.js\"></script>\n",
       "<div class=\"output_area\">\n",
       "    <div id=\"mydiv\" style=\"width:50%;height:50%\">\n",
       "    </div>\n",
       "    <div id=\"output\">\n",
       "    </div>\n",
       "</div>\n",
       "<script type=\"text/javascript\">\n",
       "var renderWindowContainer = document.getElementById(\"mydiv\");\n",
       "\n",
       "var genericRenderWindow = vtk.Rendering.Misc.vtkGenericRenderWindow.newInstance();\n",
       "genericRenderWindow.setContainer(renderWindowContainer);\n",
       "genericRenderWindow.resize();\n",
       "\n",
       "var points = vtk.Common.Core.vtkPoints.newInstance()\n",
       "var cells = vtk.Common.Core.vtkCellArray.newInstance()\n",
       "var polys = vtk.Common.DataModel.vtkPolyData.newInstance()\n",
       "var data = vtk.Common.Core.vtkDataArray.newInstance({'name': \"pointData\", empty: true})\n",
       "data.setData(document.triangleData.pointdata)\n",
       "\n",
       "points.setData(document.triangleData.vertices)\n",
       "cells.setData(document.triangleData.elements)\n",
       "polys.setPolys(cells)\n",
       "polys.setPoints(points)\n",
       "polys.getPointData().setScalars(data)\n",
       "\n",
       "var actor              = vtk.Rendering.Core.vtkActor.newInstance();\n",
       "var mapper             = vtk.Rendering.Core.vtkMapper.newInstance();\n",
       "var cone               = vtk.Filters.Sources.vtkConeSource.newInstance();\n",
       "\n",
       "\n",
       "actor.setMapper(mapper);\n",
       "actor.getProperty().setEdgeVisibility(true);\n",
       "mapper.setInputData(polys);\n",
       "mapper.setScalarModeToUsePointData()\n",
       "var renderer = genericRenderWindow.getRenderer();\n",
       "renderer.addActor(actor);\n",
       "renderer.resetCamera();\n",
       "genericRenderWindow.getRenderWindow().render();\n",
       "</script>\n"
      ],
      "text/plain": [
       "<IPython.core.display.HTML object>"
      ]
     },
     "metadata": {},
     "output_type": "display_data"
    }
   ],
   "source": [
    "html_code = \"\"\"\n",
    "<script type=\"text/javascript\" src=\"https://unpkg.com/@babel/polyfill@7.0.0/dist/polyfill.js\"></script>\n",
    "<script type=\"text/javascript\" src=\"https://unpkg.com/vtk.js\"></script>\n",
    "<div class=\"output_area\">\n",
    "    <div id=\"mydiv\" style=\"width:50%;height:50%\">\n",
    "    </div>\n",
    "    <div id=\"output\">\n",
    "    </div>\n",
    "</div>\n",
    "<script type=\"text/javascript\">\n",
    "var renderWindowContainer = document.getElementById(\"mydiv\");\n",
    "\n",
    "var genericRenderWindow = vtk.Rendering.Misc.vtkGenericRenderWindow.newInstance();\n",
    "genericRenderWindow.setContainer(renderWindowContainer);\n",
    "genericRenderWindow.resize();\n",
    "\n",
    "var points = vtk.Common.Core.vtkPoints.newInstance()\n",
    "var cells = vtk.Common.Core.vtkCellArray.newInstance()\n",
    "var polys = vtk.Common.DataModel.vtkPolyData.newInstance()\n",
    "var data = vtk.Common.Core.vtkDataArray.newInstance({'name': \"pointData\", empty: true})\n",
    "data.setData(document.triangleData.pointdata)\n",
    "\n",
    "points.setData(document.triangleData.vertices)\n",
    "cells.setData(document.triangleData.elements)\n",
    "polys.setPolys(cells)\n",
    "polys.setPoints(points)\n",
    "polys.getPointData().setScalars(data)\n",
    "\n",
    "var actor              = vtk.Rendering.Core.vtkActor.newInstance();\n",
    "var mapper             = vtk.Rendering.Core.vtkMapper.newInstance();\n",
    "var cone               = vtk.Filters.Sources.vtkConeSource.newInstance();\n",
    "\n",
    "\n",
    "actor.setMapper(mapper);\n",
    "actor.getProperty().setEdgeVisibility(true);\n",
    "mapper.setInputData(polys);\n",
    "mapper.setScalarModeToUsePointData()\n",
    "var renderer = genericRenderWindow.getRenderer();\n",
    "renderer.addActor(actor);\n",
    "renderer.resetCamera();\n",
    "genericRenderWindow.getRenderWindow().render();\n",
    "</script>\n",
    "\"\"\"\n",
    "display(HTML(html_code))"
   ]
  },
  {
   "cell_type": "code",
   "execution_count": null,
   "metadata": {},
   "outputs": [],
   "source": []
  }
 ],
 "metadata": {
  "kernelspec": {
   "display_name": "Python 3",
   "language": "python",
   "name": "python3"
  },
  "language_info": {
   "codemirror_mode": {
    "name": "ipython",
    "version": 3
   },
   "file_extension": ".py",
   "mimetype": "text/x-python",
   "name": "python",
   "nbconvert_exporter": "python",
   "pygments_lexer": "ipython3",
   "version": "3.8.2"
  }
 },
 "nbformat": 4,
 "nbformat_minor": 2
}
