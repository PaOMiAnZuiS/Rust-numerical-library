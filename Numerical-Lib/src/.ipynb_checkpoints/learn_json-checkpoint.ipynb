{
 "cells": [
  {
   "cell_type": "code",
   "execution_count": 11,
   "metadata": {},
   "outputs": [],
   "source": [
    "from IPython.core.display import display, HTML\n",
    "from IPython.display import Javascript\n",
    "import json\n",
    "from matplotlib import cm"
   ]
  },
  {
   "cell_type": "code",
   "execution_count": 12,
   "metadata": {},
   "outputs": [],
   "source": [
    "vertices = [0, 0, 0,\n",
    "            1, 0, 0,\n",
    "            1, 1, 0,\n",
    "            0, 1, 0]\n",
    "elements = [0, 1, 2,\n",
    "            0, 2, 3]\n",
    "point_data = [0.0, 1.0, 2.3, .5]\n",
    "colors = [ cm.jet(x) for x in point_data ]"
   ]
  },
  {
   "cell_type": "code",
   "execution_count": 15,
   "metadata": {},
   "outputs": [
    {
     "data": {
      "application/javascript": [
       "document.testagainn = {\"vertices\": [0, 0, 0, 1, 0, 0, 1, 1, 0, 0, 1, 0], \"faces\": [0, 1, 2, 0, 2, 3], \"pointdataa\": [[0.0, 0.0, 0.5, 1.0], [0.5, 0.0, 0.0, 1.0], [0.5, 0.0, 0.0, 1.0], [0.4901960784313725, 1.0, 0.4775458570524984, 1.0]]}; console.log(document.testagainn);"
      ],
      "text/plain": [
       "<IPython.core.display.Javascript object>"
      ]
     },
     "execution_count": 15,
     "metadata": {},
     "output_type": "execute_result"
    }
   ],
   "source": [
    "Javascript(\"document.testagainn = %s; console.log(document.testagainn);\" \n",
    "           % json.dumps({'vertices': vertices, 'faces': elements, 'pointdataa': colors}))"
   ]
  },
  {
   "cell_type": "code",
   "execution_count": 16,
   "metadata": {},
   "outputs": [
    {
     "data": {
      "text/html": [
       "\n",
       "<style> canvas { width: 50%; height: 50% }</style>\n",
       "<script type=\"text/javascript\" src=\"https://unpkg.com/@babel/polyfill@7.0.0/dist/polyfill.js\"></script>\n",
       "<script src=\"https://raw.github.com/mrdoob/three.js/master/build/three.js\"></script> \n",
       "<script src=\"http://www.script-tutorials.com/demos/382/js/OrbitControls.js\"></script>\n",
       "<div class=\"output_area\">\n",
       "    <div id=\"mydiv_tl\" style=\"width:50%;height:50%\">\n",
       "    </div>\n",
       "    <div id=\"outputnew\">\n",
       "    </div>\n",
       "</div>\n",
       "<script>\n",
       "// initial set up\n",
       "var renderWindowContainer = document.getElementById(\"mydiv_tl\");\n",
       "var scene = new THREE.Scene();\n",
       "var camera = new THREE.PerspectiveCamera(75, 1, 0.1, 1000);\n",
       "var renderer = new THREE.WebGLRenderer();\n",
       "renderer.setSize(400, 400);\n",
       "renderWindowContainer.appendChild(renderer.domElement);\n",
       "camera.lookAt(new THREE.Vector3(0,0,0));\n",
       "camera.position.set( 0, 0, 1 );\n",
       "\n",
       "var controls = new THREE.OrbitControls( camera, renderer.domElement );\n",
       "var geometry = new THREE.Geometry();\n",
       "var testt = document.testdata;\n",
       "\n",
       "var vertices = document.testagainn.vertices;    \n",
       "var faces = document.testagainn.faces;    \n",
       "var data = document.testagainn.pointdataa;   \n",
       "\n",
       "console.log(\n",
       "    document.testagainn,\n",
       "    vertices\n",
       ");\n",
       "\n",
       "for (i = 0; i < vertices.length; i += 3) { \n",
       "    geometry.vertices.push(new THREE.Vector3(vertices[i], vertices[i+1], vertices[i+2]));\n",
       "}\n",
       "\n",
       "\n",
       "var colors = new Array();\n",
       "for (i = 0; i < data.length; i++) { \n",
       "    colors[i] = new THREE.Color(data[i][0], data[i][1], data[i][2]);\n",
       "}\n",
       "\n",
       "var j = 0;\n",
       "for (i = 0; i < faces.length; i += 3) { \n",
       "    geometry.faces.push(new THREE.Face3(faces[i], faces[i+1], faces[i+2]));\n",
       "    geometry.faces[j].vertexColors.push( colors[faces[i]], colors[faces[i+1]], colors[faces[i+2]] );\n",
       "    j = j+1;\n",
       "}\n",
       "\n",
       "geometry.computeFaceNormals();\n",
       "var parameters = {\n",
       "    vertexColors: THREE.VertexColors,\n",
       "    side: THREE.DoubleSide\n",
       "};\n",
       "var material = new THREE.MeshBasicMaterial(parameters);\n",
       "var triangles = new THREE.Mesh(geometry, material); \n",
       "triangles.translateX(-0.5);;\n",
       "triangles.translateY(-0.5);;\n",
       "\n",
       "scene.add(triangles);\n",
       "camera.position.z = 2;\n",
       "animate();\n",
       "controls.addEventListener( 'change', render );\n",
       "function render() {\n",
       "    renderer.render( scene, camera );\n",
       "}\n",
       "function animate(){\n",
       "    requestAnimationFrame( animate );\n",
       "    controls.update();\n",
       "    renderer.render( scene, camera );\n",
       "}\n",
       "</script>\n"
      ],
      "text/plain": [
       "<IPython.core.display.HTML object>"
      ]
     },
     "metadata": {},
     "output_type": "display_data"
    }
   ],
   "source": [
    "html_code = \"\"\"\n",
    "<style> canvas { width: 50%; height: 50% }</style>\n",
    "<script type=\"text/javascript\" src=\"https://unpkg.com/@babel/polyfill@7.0.0/dist/polyfill.js\"></script>\n",
    "<script src=\"https://raw.github.com/mrdoob/three.js/master/build/three.js\"></script> \n",
    "<script src=\"http://www.script-tutorials.com/demos/382/js/OrbitControls.js\"></script>\n",
    "<div class=\"output_area\">\n",
    "    <div id=\"mydiv_tl\" style=\"width:50%;height:50%\">\n",
    "    </div>\n",
    "    <div id=\"outputnew\">\n",
    "    </div>\n",
    "</div>\n",
    "<script>\n",
    "// initial set up\n",
    "var renderWindowContainer = document.getElementById(\"mydiv_tl\");\n",
    "var scene = new THREE.Scene();\n",
    "var camera = new THREE.PerspectiveCamera(75, 1, 0.1, 1000);\n",
    "var renderer = new THREE.WebGLRenderer();\n",
    "renderer.setSize(400, 400);\n",
    "renderWindowContainer.appendChild(renderer.domElement);\n",
    "camera.lookAt(new THREE.Vector3(0,0,0));\n",
    "camera.position.set( 0, 0, 1 );\n",
    "\n",
    "var controls = new THREE.OrbitControls( camera, renderer.domElement );\n",
    "var geometry = new THREE.Geometry();\n",
    "var testt = document.testdata;\n",
    "\n",
    "var vertices = document.testagainn.vertices;    \n",
    "var faces = document.testagainn.faces;    \n",
    "var data = document.testagainn.pointdataa;   \n",
    "\n",
    "console.log(\n",
    "    document.testagainn,\n",
    "    vertices\n",
    ");\n",
    "\n",
    "for (i = 0; i < vertices.length; i += 3) { \n",
    "    geometry.vertices.push(new THREE.Vector3(vertices[i], vertices[i+1], vertices[i+2]));\n",
    "}\n",
    "\n",
    "\n",
    "var colors = new Array();\n",
    "for (i = 0; i < data.length; i++) { \n",
    "    colors[i] = new THREE.Color(data[i][0], data[i][1], data[i][2]);\n",
    "}\n",
    "\n",
    "var j = 0;\n",
    "for (i = 0; i < faces.length; i += 3) { \n",
    "    geometry.faces.push(new THREE.Face3(faces[i], faces[i+1], faces[i+2]));\n",
    "    geometry.faces[j].vertexColors.push( colors[faces[i]], colors[faces[i+1]], colors[faces[i+2]] );\n",
    "    j = j+1;\n",
    "}\n",
    "\n",
    "geometry.computeFaceNormals();\n",
    "var parameters = {\n",
    "    vertexColors: THREE.VertexColors,\n",
    "    side: THREE.DoubleSide\n",
    "};\n",
    "var material = new THREE.MeshBasicMaterial(parameters);\n",
    "var triangles = new THREE.Mesh(geometry, material); \n",
    "triangles.translateX(-0.5);;\n",
    "triangles.translateY(-0.5);;\n",
    "\n",
    "scene.add(triangles);\n",
    "camera.position.z = 2;\n",
    "animate();\n",
    "controls.addEventListener( 'change', render );\n",
    "function render() {\n",
    "    renderer.render( scene, camera );\n",
    "}\n",
    "function animate(){\n",
    "    requestAnimationFrame( animate );\n",
    "    controls.update();\n",
    "    renderer.render( scene, camera );\n",
    "}\n",
    "</script>\n",
    "\"\"\"\n",
    "\n",
    "display(HTML(html_code))"
   ]
  },
  {
   "cell_type": "code",
   "execution_count": null,
   "metadata": {},
   "outputs": [],
   "source": []
  },
  {
   "cell_type": "code",
   "execution_count": null,
   "metadata": {},
   "outputs": [],
   "source": []
  }
 ],
 "metadata": {
  "kernelspec": {
   "display_name": "Python 3",
   "language": "python",
   "name": "python3"
  },
  "language_info": {
   "codemirror_mode": {
    "name": "ipython",
    "version": 3
   },
   "file_extension": ".py",
   "mimetype": "text/x-python",
   "name": "python",
   "nbconvert_exporter": "python",
   "pygments_lexer": "ipython3",
   "version": "3.7.3"
  }
 },
 "nbformat": 4,
 "nbformat_minor": 4
}
